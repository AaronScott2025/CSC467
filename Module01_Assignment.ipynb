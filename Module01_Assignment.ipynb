{
 "cells": [
  {
   "cell_type": "code",
   "execution_count": null,
   "metadata": {
    "vscode": {
     "languageId": "plaintext"
    }
   },
   "outputs": [],
   "source": [
    "# Part 1: Plot a Simple Quadratic Equation\n",
    "import matplotlib.pyplot as plt\n",
    "import numpy as np\n",
    "\n",
    "# Generate x values\n",
    "x = np.linspace(-10, 10, 100)\n",
    "\n",
    "# Quadratic equation: y = x^2 - 4x + 5\n",
    "y = x**2 - 4*x + 5\n",
    "\n",
    "# Plotting the graph\n",
    "plt.figure(figsize=(8, 6))\n",
    "plt.plot(x, y, label='y = x^2 - 4x + 5', color='blue')\n",
    "plt.title('Quadratic Equation Plot')\n",
    "plt.xlabel('x')\n",
    "plt.ylabel('y')\n",
    "plt.legend()\n",
    "plt.grid()\n",
    "plt.show()"
   ]
  }
 ],
 "metadata": {
  "language_info": {
   "name": "python"
  }
 },
 "nbformat": 4,
 "nbformat_minor": 2
}
